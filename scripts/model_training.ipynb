{
 "cells": [
  {
   "cell_type": "code",
   "execution_count": 1,
   "metadata": {
    "collapsed": false
   },
   "outputs": [],
   "source": [
    "# Pkg.add(\"LowRankModels\")\n",
    "# Pkg.update()\n",
    "# Pkg.add(\"SCS\")"
   ]
  },
  {
   "cell_type": "code",
   "execution_count": 2,
   "metadata": {
    "collapsed": false,
    "scrolled": true
   },
   "outputs": [
    {
     "name": "stderr",
     "output_type": "stream",
     "text": [
      "INFO: Recompiling stale cache file /home/juser/.julia/lib/v0.5/DataStructures.ji for module DataStructures.\n",
      "WARNING: Method definition norm(Convex.AbstractExpr, Symbol) in module Convex at /opt/julia_packages/.julia/v0.5/Convex/src/atoms/second_order_cone/norm.jl:45 overwritten at deprecated.jl:49.\n",
      "INFO: Recompiling stale cache file /home/juser/.julia/lib/v0.5/ColorTypes.ji for module ColorTypes.\n",
      "INFO: Recompiling stale cache file /home/juser/.julia/lib/v0.5/Colors.ji for module Colors.\n",
      "INFO: Recompiling stale cache file /home/juser/.julia/lib/v0.5/PyPlot.ji for module PyPlot.\n"
     ]
    }
   ],
   "source": [
    "# Pkg.add(\"Gadfly\")\n",
    "using Convex\n",
    "using DataFrames\n",
    "using PyPlot\n",
    "using SCS"
   ]
  },
  {
   "cell_type": "code",
   "execution_count": 3,
   "metadata": {
    "collapsed": false
   },
   "outputs": [
    {
     "data": {
      "text/plain": [
       "proxgrad_const (generic function with 1 method)"
      ]
     },
     "execution_count": 3,
     "metadata": {},
     "output_type": "execute_result"
    }
   ],
   "source": [
    "include(\"proxgrad.jl\")"
   ]
  },
  {
   "cell_type": "code",
   "execution_count": 4,
   "metadata": {
    "collapsed": false
   },
   "outputs": [],
   "source": [
    "# load data\n",
    "listings = readtable(\"listings_cleaned.csv\")\n",
    "\n",
    "n = size(listings)[1]\n",
    "\n",
    "# Code borrowed from http://blog.yhat.com/posts/julia-neural-networks.html\n",
    "# Generate train/test split\n",
    "is_train = shuffle(1:n .> floor(n * .25))\n",
    "listings_train, listings_test = listings[is_train, :], listings[!is_train, :]\n",
    "listings = listings_train;"
   ]
  },
  {
   "cell_type": "code",
   "execution_count": 5,
   "metadata": {
    "collapsed": false
   },
   "outputs": [
    {
     "data": {
      "text/plain": [
       "generateValidationSplit (generic function with 1 method)"
      ]
     },
     "execution_count": 5,
     "metadata": {},
     "output_type": "execute_result"
    }
   ],
   "source": [
    "# Generate train/validate split based on a percent (1-100) for the validation set\n",
    "function generateValidationSplit(listings, percent)\n",
    "    n = size(listings)[1]\n",
    "    is_validate = shuffle(1:n .> floor(n * (percent / 100.)))\n",
    "    listings_train, listings_validate = listings[is_validate, :], listings[!is_validate, :]\n",
    "    return listings_train, listings_validate\n",
    "end"
   ]
  },
  {
   "cell_type": "code",
   "execution_count": 6,
   "metadata": {
    "collapsed": false
   },
   "outputs": [
    {
     "data": {
      "text/plain": [
       "abs_error (generic function with 1 method)"
      ]
     },
     "execution_count": 6,
     "metadata": {},
     "output_type": "execute_result"
    }
   ],
   "source": [
    "# Various loss and error functions\n",
    "\n",
    "function lasso(X,y; λ=1)\n",
    "    @show d = size(X,2)\n",
    "    @show w = Variable(d)\n",
    "    @show p = minimize(sumsquares(X*w - y) + λ*norm(w,1))\n",
    "    solve!(p)\n",
    "    return w.value\n",
    "end\n",
    "\n",
    "function ridge_regression(X,y; λ=1)\n",
    "    d = size(X,2)\n",
    "    w = Variable(d)\n",
    "    p = minimize(sumsquares(X*w - y) + λ*sumsquares(w))\n",
    "    solve!(p)\n",
    "    return w.value\n",
    "end\n",
    "\n",
    "function nnls(X,y)\n",
    "    d = size(X,2)\n",
    "    w = Variable(d)\n",
    "    p = minimize(sumsquares(X*w - y), w>=0)\n",
    "    solve!(p)\n",
    "    return w.value\n",
    "end\n",
    "\n",
    "function ols(x, y)\n",
    "    return x\\y\n",
    "end\n",
    "\n",
    "function RMSE(w, x, y)\n",
    "    n = length(y)\n",
    "    f(x_i) = vecdot(w,x_i)\n",
    "    total_error = 0\n",
    "    for i = 1:size(x,1)\n",
    "        actual = y[i]\n",
    "        predicted = f(x[i,:])\n",
    "        total_error += (actual - predicted)^2\n",
    "    end\n",
    "    return sqrt(total_error / n)\n",
    "end\n",
    "\n",
    "function squared_error(w, x, y)\n",
    "    f(x_i) = vecdot(w,x_i)\n",
    "    total_error = 0\n",
    "    for i = 1:size(x,1)\n",
    "        actual = y[i]\n",
    "        predicted = f(x[i,:])\n",
    "        total_error += (actual - predicted)^2\n",
    "    end\n",
    "    return total_error\n",
    "end\n",
    "\n",
    "function abs_error(w, x, y)\n",
    "    f(x_i) = vecdot(w,x_i)\n",
    "    total_error = 0\n",
    "    for i = 1:size(x,1)\n",
    "        actual = y[i]\n",
    "        predicted = f(x[i,:])\n",
    "        total_error += abs(actual - predicted)\n",
    "    end\n",
    "    return total_error\n",
    "end"
   ]
  },
  {
   "cell_type": "code",
   "execution_count": 22,
   "metadata": {
    "collapsed": false
   },
   "outputs": [
    {
     "name": "stderr",
     "output_type": "stream",
     "text": [
      "WARNING: Method definition calculateError(Any, Any, Any, Any, Any, Any) in module Main at In[18]:3 overwritten at In[22]:3.\n"
     ]
    },
    {
     "data": {
      "text/plain": [
       "calculateErrorOLS (generic function with 1 method)"
      ]
     },
     "execution_count": 22,
     "metadata": {},
     "output_type": "execute_result"
    }
   ],
   "source": [
    "# Takes in training and validation vectors, and returns the error for a specific method\n",
    "function calculateError(x_train, y_train, x_validate, y_validate, lossFunction, regFunction)\n",
    "    n = length(y)\n",
    "    w = proxgrad((1./n)*lossFunction, regFunction, x_train, y_train, maxiters=200)\n",
    "    \n",
    "    err = RMSE(w, x_validate, y_validate)\n",
    "    return err\n",
    "end\n",
    "\n",
    "function calculateErrorOLS(x_train, y_train, x_validate, y_validate)\n",
    "    w = ols(x_train, y_train)\n",
    "    err = RMSE(w, x_validate, y_validate)\n",
    "    return err\n",
    "end"
   ]
  },
  {
   "cell_type": "code",
   "execution_count": 8,
   "metadata": {
    "collapsed": false
   },
   "outputs": [],
   "source": [
    "# Create training vectors\n",
    "\n",
    "x = copy(listings)\n",
    "x[:offset] = 1;\n",
    "# smalldata = x[1:10, [:accommodates, :bathrooms, :beds, :amenities, :number_of_reviews, :review_scores_rating]]\n",
    "x0 = convert(Array{Float64}, x)\n",
    "x1 = convert(Array{Float64}, x[:, [:accommodates, :beds, :amenities, :review_scores_rating, :offset]])\n",
    "x2 = convert(Array{Float64}, x[:, [:accommodates, :beds, :offset]])\n",
    "x3 = convert(Array{Float64}, x[:, [:accommodates, :beds, :room_type_entire_home_apt, :offset]])\n",
    "x4 = convert(Array{Float64}, x[:, [:accommodates, :beds, :room_type_entire_home_apt, :reviews_per_month, :offset]])\n",
    "x5 = convert(Array{Float64}, x[:, [:accommodates, :beds, :bed_type_real_bed, :room_type_entire_home_apt, :reviews_per_month, :property_type_apartment, :offset]])\n",
    "x6 = convert(Array{Float64}, x[:, [:accommodates, :beds, :bed_type_real_bed, :room_type_entire_home_apt, :room_type_private_room\n",
    ", :room_type_shared_room, :reviews_per_month, :property_type_apartment, :offset]])\n",
    "\n",
    "y = convert(Array{Float64}, x[:, [:price]])\n",
    "y = y[:,1];"
   ]
  },
  {
   "cell_type": "code",
   "execution_count": 9,
   "metadata": {
    "collapsed": false
   },
   "outputs": [
    {
     "name": "stdout",
     "output_type": "stream",
     "text": [
      "size(x_test) = (6519,80)\n"
     ]
    }
   ],
   "source": [
    "# Create test vectors\n",
    "\n",
    "x_test = copy(listings_test)\n",
    "x_test[:offset] = 1\n",
    "@show size(x_test)\n",
    "\n",
    "x0_test = convert(Array{Float64}, x_test)\n",
    "x1_test = convert(Array{Float64}, x_test[:, [:accommodates, :beds, :amenities, :review_scores_rating, :offset]])\n",
    "x2_test = convert(Array{Float64}, x_test[:, [:accommodates, :beds, :offset]])\n",
    "x3_test = convert(Array{Float64}, x_test[:, [:accommodates, :beds, :room_type_entire_home_apt, :offset]])\n",
    "x4_test = convert(Array{Float64}, x_test[:, [:accommodates, :beds, :room_type_entire_home_apt, :reviews_per_month, :offset]])\n",
    "x5_test = convert(Array{Float64}, x_test[:, [:accommodates, :beds, :bed_type_real_bed, :room_type_entire_home_apt, :reviews_per_month, :property_type_apartment, :offset]])\n",
    "x6_test = convert(Array{Float64}, x_test[:, [:accommodates, :beds, :bed_type_real_bed, :room_type_entire_home_apt, :room_type_private_room\n",
    ", :room_type_shared_room, :reviews_per_month, :property_type_apartment, :offset]])\n",
    "\n",
    "y_test = convert(Array{Float64}, x_test[:, [:price]])\n",
    "y_test = y_test[:,1];"
   ]
  },
  {
   "cell_type": "code",
   "execution_count": 30,
   "metadata": {
    "collapsed": false
   },
   "outputs": [
    {
     "name": "stdout",
     "output_type": "stream",
     "text": [
      "calculateError(x1,y,x1_test,y_test,HuberLoss(),ZeroReg()) = 337.04394458737266\n",
      "calculateError(x2,y,x2_test,y_test,HuberLoss(),ZeroReg()) = 305.6622585556549\n",
      "calculateError(x3,y,x3_test,y_test,HuberLoss(),ZeroReg()) = 306.7621409659282\n",
      "calculateError(x4,y,x4_test,y_test,HuberLoss(),ZeroReg()) = 305.17195429999606\n",
      "calculateError(x5,y,x5_test,y_test,HuberLoss(),ZeroReg()) = 305.72391289211293\n",
      "calculateError(x0,y,x0_test,y_test,QuadLoss(),ZeroReg()) = 382.0981459515079\n",
      "calculateError(x1,y,x1_test,y_test,QuadLoss(),ZeroReg()) = 312.95558882657406\n",
      "calculateError(x2,y,x2_test,y_test,QuadLoss(),ZeroReg()) = 292.26639508702135\n",
      "calculateError(x3,y,x3_test,y_test,QuadLoss(),ZeroReg()) = 292.13859966021613\n",
      "calculateError(x4,y,x4_test,y_test,QuadLoss(),ZeroReg()) = 289.8394215223547\n",
      "calculateError(x5,y,x5_test,y_test,QuadLoss(),ZeroReg()) = 288.91739005209655\n",
      "calculateError(x5,y,x5_test,y_test,QuadLoss(),OneReg(lambda)) = 288.9380576359464\n",
      "calculateError(x5,y,x5_test,y_test,QuadLoss(),QuadReg(lambda)) = 290.1034940864118\n",
      "calculateError(x6,y,x6_test,y_test,QuadLoss(),ZeroReg()) = 288.8729811427946\n",
      "calculateError(x1,y,x1_test,y_test,L1Loss(),ZeroReg()) = 337.0390446084406\n",
      "calculateError(x2,y,x2_test,y_test,L1Loss(),ZeroReg()) = 305.652527883443\n",
      "calculateError(x3,y,x3_test,y_test,L1Loss(),ZeroReg()) = 306.95032141113376\n",
      "calculateError(x4,y,x4_test,y_test,L1Loss(),ZeroReg()) = 305.17088974733326\n",
      "calculateError(x5,y,x5_test,y_test,L1Loss(),ZeroReg()) = 305.74428221135366\n",
      "calculateError(x5,y,x5_test,y_test,QuantileLoss(quantile=0.4),ZeroReg()) = 311.80786144967306\n"
     ]
    },
    {
     "data": {
      "text/html": [
       "311.80786144967306"
      ],
      "text/plain": [
       "311.80786144967306"
      ]
     },
     "execution_count": 30,
     "metadata": {},
     "output_type": "execute_result"
    }
   ],
   "source": [
    "n = length(y)\n",
    "\n",
    "# huber regression\n",
    "\n",
    "@show calculateError(x1, y, x1_test, y_test, HuberLoss(), ZeroReg())\n",
    "@show calculateError(x2, y, x2_test, y_test, HuberLoss(), ZeroReg())\n",
    "@show calculateError(x3, y, x3_test, y_test, HuberLoss(), ZeroReg())\n",
    "@show calculateError(x4, y, x4_test, y_test, HuberLoss(), ZeroReg())\n",
    "@show calculateError(x5, y, x5_test, y_test, HuberLoss(), ZeroReg())\n",
    "\n",
    "# ordinary least squares regression\n",
    "lambda = 1\n",
    "@show calculateError(x0, y, x0_test, y_test, QuadLoss(), ZeroReg())\n",
    "@show calculateError(x1, y, x1_test, y_test, QuadLoss(), ZeroReg())\n",
    "@show calculateError(x2, y, x2_test, y_test, QuadLoss(), ZeroReg())\n",
    "@show calculateError(x3, y, x3_test, y_test, QuadLoss(), ZeroReg())\n",
    "@show calculateError(x4, y, x4_test, y_test, QuadLoss(), ZeroReg())\n",
    "@show calculateError(x5, y, x5_test, y_test, QuadLoss(), ZeroReg())\n",
    "@show calculateError(x5, y, x5_test, y_test, QuadLoss(), OneReg(lambda))\n",
    "@show calculateError(x5, y, x5_test, y_test, QuadLoss(), QuadReg(lambda))\n",
    "@show calculateError(x6, y, x6_test, y_test, QuadLoss(), ZeroReg())\n",
    "\n",
    "\n",
    "# l1 loss regression\n",
    "@show calculateError(x1, y, x1_test, y_test, L1Loss(), ZeroReg())\n",
    "@show calculateError(x2, y, x2_test, y_test, L1Loss(), ZeroReg())\n",
    "@show calculateError(x3, y, x3_test, y_test, L1Loss(), ZeroReg())\n",
    "@show calculateError(x4, y, x4_test, y_test, L1Loss(), ZeroReg())\n",
    "@show calculateError(x5, y, x5_test, y_test, L1Loss(), ZeroReg())\n",
    "\n",
    "# quantile regression\n",
    "@show calculateError(x5, y, x5_test, y_test, QuantileLoss(quantile=.4), ZeroReg())"
   ]
  },
  {
   "cell_type": "code",
   "execution_count": 27,
   "metadata": {
    "collapsed": false,
    "scrolled": true
   },
   "outputs": [
    {
     "name": "stdout",
     "output_type": "stream",
     "text": [
      "calculateErrorOLS(x1,y,x1_test,y_test) = 290.3259308915268\n",
      "calculateErrorOLS(x2,y,x2_test,y_test) = 292.26774128398966\n",
      "calculateErrorOLS(x3,y,x3_test,y_test) = 292.1302273403702\n",
      "calculateErrorOLS(x4,y,x4_test,y_test) = 289.82864013708115\n",
      "calculateErrorOLS(x5,y,x5_test,y_test) = 288.9090491920301\n"
     ]
    },
    {
     "data": {
      "text/html": [
       "288.9090491920301"
      ],
      "text/plain": [
       "288.9090491920301"
      ]
     },
     "execution_count": 27,
     "metadata": {},
     "output_type": "execute_result"
    }
   ],
   "source": [
    "# ordinary least squares\n",
    "\n",
    "@show calculateErrorOLS(x1, y, x1_test, y_test)\n",
    "@show calculateErrorOLS(x2, y, x2_test, y_test)\n",
    "@show calculateErrorOLS(x3, y, x3_test, y_test)\n",
    "@show calculateErrorOLS(x4, y, x4_test, y_test)\n",
    "@show calculateErrorOLS(x5, y, x5_test, y_test)"
   ]
  },
  {
   "cell_type": "code",
   "execution_count": null,
   "metadata": {
    "collapsed": false
   },
   "outputs": [],
   "source": [
    "w_ridge1 = ridge_regression(x1, y)\n",
    "@show err_ridge1 = RMSE(w_ridge1, x1_test, y_test)\n"
   ]
  },
  {
   "cell_type": "code",
   "execution_count": null,
   "metadata": {
    "collapsed": false
   },
   "outputs": [],
   "source": [
    "w_lasso1 = lasso(x1, y)\n",
    "@show err_lasso1 = RMSE(w_lasso1, x1_test, y_test)\n"
   ]
  },
  {
   "cell_type": "code",
   "execution_count": null,
   "metadata": {
    "collapsed": false
   },
   "outputs": [],
   "source": [
    "# w_nonneg1 = nnls(x1, y)\n",
    "# @show err_nonneg1 = test(w_nonneg1, x1, y)\n"
   ]
  },
  {
   "cell_type": "code",
   "execution_count": null,
   "metadata": {
    "collapsed": false
   },
   "outputs": [],
   "source": [
    "plt[:hist](w_ridge1)"
   ]
  },
  {
   "cell_type": "code",
   "execution_count": null,
   "metadata": {
    "collapsed": false
   },
   "outputs": [],
   "source": [
    "plt[:hist](w_lasso1, bins=50)"
   ]
  },
  {
   "cell_type": "code",
   "execution_count": null,
   "metadata": {
    "collapsed": false
   },
   "outputs": [],
   "source": []
  },
  {
   "cell_type": "code",
   "execution_count": null,
   "metadata": {
    "collapsed": true
   },
   "outputs": [],
   "source": []
  }
 ],
 "metadata": {
  "kernelspec": {
   "display_name": "Julia 0.5.0",
   "language": "julia",
   "name": "julia-0.5"
  },
  "language_info": {
   "file_extension": ".jl",
   "mimetype": "application/julia",
   "name": "julia",
   "version": "0.5.0"
  }
 },
 "nbformat": 4,
 "nbformat_minor": 0
}
