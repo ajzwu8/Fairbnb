{
 "cells": [
  {
   "cell_type": "code",
   "execution_count": null,
   "metadata": {
    "collapsed": false
   },
   "outputs": [],
   "source": [
    "# Pkg.add(\"LowRankModels\")\n",
    "# Pkg.update()\n",
    "# Pkg.add(\"SCS\")"
   ]
  },
  {
   "cell_type": "code",
   "execution_count": null,
   "metadata": {
    "collapsed": false,
    "scrolled": true
   },
   "outputs": [],
   "source": [
    "# Pkg.add(\"Gadfly\")\n",
    "using Convex\n",
    "using DataFrames\n",
    "using PyPlot\n",
    "using SCS"
   ]
  },
  {
   "cell_type": "code",
   "execution_count": null,
   "metadata": {
    "collapsed": false
   },
   "outputs": [],
   "source": [
    "include(\"proxgrad.jl\")"
   ]
  },
  {
   "cell_type": "code",
   "execution_count": null,
   "metadata": {
    "collapsed": false
   },
   "outputs": [],
   "source": [
    "PERCENT_TEST = 0.2\n",
    "PERCENT_VALIDATE = 0.25\n",
    ";"
   ]
  },
  {
   "cell_type": "code",
   "execution_count": null,
   "metadata": {
    "collapsed": false
   },
   "outputs": [],
   "source": [
    "# Generate a split data with a given percent from 0-1\n",
    "function splitData(listings, percent)\n",
    "    n = size(listings)[1]\n",
    "    # Code borrowed from http://blog.yhat.com/posts/julia-neural-networks.html\n",
    "    is_split = shuffle(1:n .> floor(n * percent))\n",
    "    listings_train, listings_test = listings[is_split, :], listings[!is_split, :]\n",
    "    return listings_train, listings_test\n",
    "end"
   ]
  },
  {
   "cell_type": "code",
   "execution_count": null,
   "metadata": {
    "collapsed": false
   },
   "outputs": [],
   "source": [
    "# load data\n",
    "listings = readtable(\"listings_cleaned.csv\")\n",
    "listings[:offset] = 1\n",
    "\n",
    "# Generate train/test split\n",
    "listings_train, listings_test = splitData(listings, PERCENT_TEST)\n",
    "listings = listings_train;"
   ]
  },
  {
   "cell_type": "code",
   "execution_count": null,
   "metadata": {
    "collapsed": false
   },
   "outputs": [],
   "source": [
    "# Generate train/validate split\n",
    "listings_train, listings_validate = splitData(listings, PERCENT_VALIDATE)\n",
    "listings = listings_train;"
   ]
  },
  {
   "cell_type": "code",
   "execution_count": null,
   "metadata": {
    "collapsed": false
   },
   "outputs": [],
   "source": [
    "# Various loss and error functions\n",
    "\n",
    "function lasso(X,y; λ=1)\n",
    "    @show d = size(X,2)\n",
    "    @show w = Variable(d)\n",
    "    @show p = minimize(sumsquares(X*w - y) + λ*norm(w,1))\n",
    "    solve!(p)\n",
    "    return w.value\n",
    "end\n",
    "\n",
    "function ridge_regression(X,y; λ=1)\n",
    "    d = size(X,2)\n",
    "    w = Variable(d)\n",
    "    p = minimize(sumsquares(X*w - y) + λ*sumsquares(w))\n",
    "    solve!(p)\n",
    "    return w.value\n",
    "end\n",
    "\n",
    "function nnls(X,y)\n",
    "    d = size(X,2)\n",
    "    w = Variable(d)\n",
    "    p = minimize(sumsquares(X*w - y), w>=0)\n",
    "    solve!(p)\n",
    "    return w.value\n",
    "end\n",
    "\n",
    "function ols(x, y)\n",
    "    return x\\y\n",
    "end\n",
    "\n",
    "function RMSE(w, x, y)\n",
    "    n = length(y)\n",
    "    f(x_i) = vecdot(w,x_i)\n",
    "    total_error = 0\n",
    "    for i = 1:size(x,1)\n",
    "        actual = y[i]\n",
    "        predicted = f(x[i,:])\n",
    "        total_error += (actual - predicted)^2\n",
    "    end\n",
    "    return sqrt(total_error / n)\n",
    "end\n",
    "\n",
    "function squared_error(w, x, y)\n",
    "    f(x_i) = vecdot(w,x_i)\n",
    "    total_error = 0\n",
    "    for i = 1:size(x,1)\n",
    "        actual = y[i]\n",
    "        predicted = f(x[i,:])\n",
    "        total_error += (actual - predicted)^2\n",
    "    end\n",
    "    return total_error\n",
    "end\n",
    "\n",
    "function abs_error(w, x, y)\n",
    "    f(x_i) = vecdot(w,x_i)\n",
    "    total_error = 0\n",
    "    for i = 1:size(x,1)\n",
    "        actual = y[i]\n",
    "        predicted = f(x[i,:])\n",
    "        total_error += abs(actual - predicted)\n",
    "    end\n",
    "    return total_error\n",
    "end"
   ]
  },
  {
   "cell_type": "code",
   "execution_count": null,
   "metadata": {
    "collapsed": false
   },
   "outputs": [],
   "source": [
    "# Takes in training and validation vectors, and returns the error for a specific method (as well as the w)\n",
    "function calculateError(x_train, y_train, x_validate, y_validate, lossFunction, regFunction)\n",
    "    n = length(y_train)\n",
    "    w = proxgrad((1./n)*lossFunction, regFunction, x_train, y_train, maxiters=200)\n",
    "    \n",
    "    err = RMSE(w, x_validate, y_validate)\n",
    "    return err, w\n",
    "end\n",
    "\n",
    "function calculateErrorOLS(x_train, y_train, x_validate, y_validate)\n",
    "    w = ols(x_train, y_train)\n",
    "    err = RMSE(w, x_validate, y_validate)\n",
    "    return err, w\n",
    "end"
   ]
  },
  {
   "cell_type": "code",
   "execution_count": null,
   "metadata": {
    "collapsed": false
   },
   "outputs": [],
   "source": [
    "# Cross validate to produce best w\n",
    "k = 5\n",
    "\n",
    "function crossValidate(columnList, lossFunction, regFunction)\n",
    "    minW = nothing\n",
    "    minErr = typemax(Int32)\n",
    "    for i in 1:k\n",
    "        listings_training, listings_validate = splitData(listings, PERCENT_VALIDATE) #(listings_train)\n",
    "        \n",
    "        x = convert(Array{Float64}, listings_training[:, columnList])\n",
    "        y = convert(Array{Float64}, listings_training[:, [:price]])\n",
    "        y = y[:,1] #???\n",
    "        \n",
    "        x_validate = convert(Array{Float64}, listings_validate[:, columnList])\n",
    "        y_validate = convert(Array{Float64}, listings_validate[:, [:price]])\n",
    "        y_validate = y_validate[:,1] #????\n",
    "        \n",
    "        err, w = calculateError(x, y, x_validate, y_validate, lossFunction, regFunction)\n",
    "        if (err < minErr)\n",
    "            minW = w\n",
    "            minErr = err\n",
    "        end\n",
    "        \n",
    "        #TODO: Use average not min? (in sample error)\n",
    "    end\n",
    "    return minW, minErr\n",
    "end"
   ]
  },
  {
   "cell_type": "code",
   "execution_count": null,
   "metadata": {
    "collapsed": false
   },
   "outputs": [],
   "source": [
    "# Cross validate to produce best w\n",
    "\n",
    "function crossValidateAverage(columnList, lossFunction, regFunction)\n",
    "    avgW = 0\n",
    "    for i in 1:k\n",
    "        listings_training, listings_validate = splitData(listings, PERCENT_VALIDATE) #(listings_train)\n",
    "        \n",
    "        x = convert(Array{Float64}, listings_training[:, columnList])\n",
    "        y = convert(Array{Float64}, listings_training[:, [:price]])\n",
    "        y = y[:,1] #???\n",
    "        \n",
    "        x_validate = convert(Array{Float64}, listings_validate[:, columnList])\n",
    "        y_validate = convert(Array{Float64}, listings_validate[:, [:price]])\n",
    "        y_validate = y_validate[:,1] #????\n",
    "        \n",
    "        err, w = calculateError(x, y, x_validate, y_validate, lossFunction, regFunction)\n",
    "        avgW += w\n",
    "        \n",
    "        #TODO: Use average not min? (in sample error)\n",
    "    end\n",
    "    return (avgW/k), minErr\n",
    "end"
   ]
  },
  {
   "cell_type": "code",
   "execution_count": null,
   "metadata": {
    "collapsed": false
   },
   "outputs": [],
   "source": [
    "\"\"\"function to plot the above data\"\"\"\n",
    "function plotdata(x,y; margin=.05)\n",
    "    hold(true)\n",
    "    for i in 1:size(y,1)\n",
    "        plot(x,y[i,:],\"o\")\n",
    "    end\n",
    "#     plot(x,y,\"o\")\n",
    "    xlabel(\"x\")\n",
    "    ylabel(\"y\")\n",
    "    range_y = maximum(vec(y)) - minimum(vec(y))\n",
    "    range_x = maximum(vec(x)) - minimum(vec(x))\n",
    "    ylim([minimum(y)-margin*range_y,maximum(y)+margin*range_y])\n",
    "    xlim([minimum(x)-margin*range_x,maximum(x)+margin*range_x])\n",
    "end"
   ]
  },
  {
   "cell_type": "code",
   "execution_count": null,
   "metadata": {
    "collapsed": false
   },
   "outputs": [],
   "source": [
    "# Choose different sets of columns that we care about\n",
    "\n",
    "columns_1 = [:accommodates, :beds, :amenities, :review_scores_rating, :offset]\n",
    "columns_2 = [:accommodates, :beds, :offset]\n",
    "columns_3 = [:accommodates, :beds, :room_type_entire_home_apt, :offset]\n",
    "columns_4 = [:accommodates, :beds, :room_type_entire_home_apt, :reviews_per_month, :offset]\n",
    "columns_5 = [:accommodates, :beds, :bed_type_real_bed, :room_type_entire_home_apt, \n",
    "    :reviews_per_month, :property_type_apartment, :offset]\n",
    "columns_6 = [:accommodates, :beds, :bed_type_real_bed, :room_type_entire_home_apt, \n",
    "    :room_type_private_room, :room_type_shared_room, \n",
    "    :reviews_per_month, :property_type_apartment, :offset]\n",
    ";"
   ]
  },
  {
   "cell_type": "code",
   "execution_count": null,
   "metadata": {
    "collapsed": false
   },
   "outputs": [],
   "source": [
    "\n",
    "#huber regression\n",
    "w_huber1, err_huber1 = crossValidate(columns_1, HuberLoss(), ZeroReg())\n",
    "w_huber2, err_huber2 = crossValidate(columns_2, HuberLoss(), ZeroReg())\n",
    "w_huber3, err_huber3 = crossValidate(columns_3, HuberLoss(), ZeroReg())\n",
    "w_huber4, err_huber4 = crossValidate(columns_4, HuberLoss(), ZeroReg())\n",
    "w_huber5, err_huber5 = crossValidate(columns_5, HuberLoss(), ZeroReg())\n",
    "w_huber6, err_huber6 = crossValidate(columns_6, HuberLoss(), ZeroReg())\n",
    "\n",
    "@show err_huber1\n",
    "@show err_huber2\n",
    "@show err_huber3\n",
    "@show err_huber4\n",
    "@show err_huber5\n",
    "@show err_huber6\n",
    "\n",
    "#huber regression & L1 Reg\n",
    "w1_huber1, err1_huber1 = crossValidate(columns_1, HuberLoss(), OneReg())\n",
    "w1_huber2, err1_huber2 = crossValidate(columns_2, HuberLoss(), OneReg())\n",
    "w1_huber3, err1_huber3 = crossValidate(columns_3, HuberLoss(), OneReg())\n",
    "w1_huber4, err1_huber4 = crossValidate(columns_4, HuberLoss(), OneReg())\n",
    "w1_huber5, err1_huber5 = crossValidate(columns_5, HuberLoss(), OneReg())\n",
    "w1_huber6, err1_huber6 = crossValidate(columns_6, HuberLoss(), OneReg())\n",
    "\n",
    "@show err1_huber1\n",
    "@show err1_huber2\n",
    "@show err1_huber3\n",
    "@show err1_huber4\n",
    "@show err1_huber5\n",
    "@show err1_huber6\n",
    "\n",
    "#huber L2 Reg\n",
    "w2_huber1, err2_huber1 = crossValidate(columns_1, HuberLoss(), QuadReg())\n",
    "w2_huber2, err2_huber2 = crossValidate(columns_2, HuberLoss(), QuadReg())\n",
    "w2_huber3, err2_huber3 = crossValidate(columns_3, HuberLoss(), QuadReg())\n",
    "w2_huber4, err2_huber4 = crossValidate(columns_4, HuberLoss(), QuadReg())\n",
    "w2_huber5, err2_huber5 = crossValidate(columns_5, HuberLoss(), QuadReg())\n",
    "w2_huber6, err2_huber6 = crossValidate(columns_6, HuberLoss(), QuadReg())\n",
    "\n",
    "@show err2_huber1\n",
    "@show err2_huber2\n",
    "@show err2_huber3\n",
    "@show err2_huber4\n",
    "@show err2_huber5\n",
    "@show err2_huber6"
   ]
  },
  {
   "cell_type": "code",
   "execution_count": null,
   "metadata": {
    "collapsed": false
   },
   "outputs": [],
   "source": [
    "@show w_huber6\n",
    "# columns_6 = [\n",
    "#     :accommodates, \n",
    "#     :beds, \n",
    "#     :bed_type_real_bed, \n",
    "#     :room_type_entire_home_apt, \n",
    "#     :room_type_private_room, \n",
    "#     :room_type_shared_room, \n",
    "#     :reviews_per_month, \n",
    "#     :property_type_apartment, \n",
    "#     :offset]"
   ]
  },
  {
   "cell_type": "code",
   "execution_count": null,
   "metadata": {
    "collapsed": false
   },
   "outputs": [],
   "source": [
    "# Quad Loss\n",
    "lambda = 1\n",
    "w_quad1, err_quad1 = crossValidate(columns_1, QuadLoss(), ZeroReg())\n",
    "w_quad2, err_quad2 = crossValidate(columns_2, QuadLoss(), ZeroReg())\n",
    "w_quad3, err_quad3 = crossValidate(columns_3, QuadLoss(), ZeroReg())\n",
    "w_quad4, err_quad4 = crossValidate(columns_4, QuadLoss(), ZeroReg())\n",
    "w_quad5, err_quad5 = crossValidate(columns_5, QuadLoss(), ZeroReg())\n",
    "w_quad6, err_quad6 = crossValidate(columns_6, QuadLoss(), ZeroReg())\n",
    "@show err_quad1\n",
    "@show err_quad2\n",
    "@show err_quad3\n",
    "@show err_quad4\n",
    "@show err_quad5\n",
    "@show err_quad6\n",
    "\n",
    "# Quad Loss & L1 Reg\n",
    "w1_quad1, err1_quad1 = crossValidate(columns_1, QuadLoss(), OneReg())\n",
    "w1_quad2, err1_quad2 = crossValidate(columns_2, QuadLoss(), OneReg())\n",
    "w1_quad3, err1_quad3 = crossValidate(columns_3, QuadLoss(), OneReg())\n",
    "w1_quad4, err1_quad4 = crossValidate(columns_4, QuadLoss(), OneReg())\n",
    "w1_quad5, err1_quad5 = crossValidate(columns_5, QuadLoss(), OneReg())\n",
    "w1_quad6, err1_quad6 = crossValidate(columns_6, QuadLoss(), OneReg())\n",
    "@show err1_quad1\n",
    "@show err1_quad2\n",
    "@show err1_quad3\n",
    "@show err1_quad4\n",
    "@show err1_quad5\n",
    "@show err1_quad6\n",
    "\n",
    "# Quad Loss & L2 Reg\n",
    "w2_quad1, err2_quad1 = crossValidate(columns_1, QuadLoss(), QuadReg())\n",
    "w2_quad2, err2_quad2 = crossValidate(columns_2, QuadLoss(), QuadReg())\n",
    "w2_quad3, err2_quad3 = crossValidate(columns_3, QuadLoss(), QuadReg())\n",
    "w2_quad4, err2_quad4 = crossValidate(columns_4, QuadLoss(), QuadReg())\n",
    "w2_quad5, err2_quad5 = crossValidate(columns_5, QuadLoss(), QuadReg())\n",
    "w2_quad6, err2_quad6 = crossValidate(columns_6, QuadLoss(), QuadReg())\n",
    "@show err2_quad1\n",
    "@show err2_quad2\n",
    "@show err2_quad3\n",
    "@show err2_quad4\n",
    "@show err2_quad5\n",
    "@show err2_quad6"
   ]
  },
  {
   "cell_type": "code",
   "execution_count": null,
   "metadata": {
    "collapsed": false
   },
   "outputs": [],
   "source": [
    "@show w1_quad6\n",
    "# columns_6 = [\n",
    "#     :accommodates, \n",
    "#     :beds, \n",
    "#     :bed_type_real_bed, \n",
    "#     :room_type_entire_home_apt, \n",
    "#     :room_type_private_room, \n",
    "#     :room_type_shared_room, \n",
    "#     :reviews_per_month, \n",
    "#     :property_type_apartment, \n",
    "#     :offset]"
   ]
  },
  {
   "cell_type": "code",
   "execution_count": null,
   "metadata": {
    "collapsed": false
   },
   "outputs": [],
   "source": [
    "# l1 loss regression\n",
    "w_l11, err_l11 = crossValidate(columns_1, L1Loss(), ZeroReg())\n",
    "w_l12, err_l12 = crossValidate(columns_2, L1Loss(), ZeroReg())\n",
    "w_l13, err_l13 = crossValidate(columns_3, L1Loss(), ZeroReg())\n",
    "w_l14, err_l14 = crossValidate(columns_4, L1Loss(), ZeroReg())\n",
    "w_l15, err_l15 = crossValidate(columns_5, L1Loss(), ZeroReg())\n",
    "w_l16, err_l16 = crossValidate(columns_6, L1Loss(), ZeroReg())\n",
    "\n",
    "@show err_l11\n",
    "@show err_l12\n",
    "@show err_l13\n",
    "@show err_l14\n",
    "@show err_l15\n",
    "@show err_l16\n",
    "\n",
    "# l1 loss regression & L1 Reg\n",
    "w1_l11, err1_l11 = crossValidate(columns_1, L1Loss(), OneReg())\n",
    "w1_l12, err1_l12 = crossValidate(columns_2, L1Loss(), OneReg())\n",
    "w1_l13, err1_l13 = crossValidate(columns_3, L1Loss(), OneReg())\n",
    "w1_l14, err1_l14 = crossValidate(columns_4, L1Loss(), OneReg())\n",
    "w1_l15, err1_l15 = crossValidate(columns_5, L1Loss(), OneReg())\n",
    "w1_l16, err1_l16 = crossValidate(columns_6, L1Loss(), OneReg())\n",
    "\n",
    "@show err1_l11\n",
    "@show err1_l12\n",
    "@show err1_l13\n",
    "@show err1_l14\n",
    "@show err1_l15\n",
    "@show err1_l16\n",
    "\n",
    "# l1 loss regression & L2 Reg\n",
    "w2_l11, err2_l11 = crossValidate(columns_1, L1Loss(), QuadReg())\n",
    "w2_l12, err2_l12 = crossValidate(columns_2, L1Loss(), QuadReg())\n",
    "w2_l13, err2_l13 = crossValidate(columns_3, L1Loss(), QuadReg())\n",
    "w2_l14, err2_l14 = crossValidate(columns_4, L1Loss(), QuadReg())\n",
    "w2_l15, err2_l15 = crossValidate(columns_5, L1Loss(), QuadReg())\n",
    "w2_l16, err2_l16 = crossValidate(columns_6, L1Loss(), QuadReg())\n",
    "\n",
    "@show err2_l11\n",
    "@show err2_l12\n",
    "@show err2_l13\n",
    "@show err2_l14\n",
    "@show err2_l15\n",
    "@show err2_l16\n",
    "\n",
    "# quantile regression\n",
    "w_quantile1, err_quantile1 = crossValidate(columns_5, QuantileLoss(quantile=.4), ZeroReg())\n",
    "@show err_quantile1"
   ]
  },
  {
   "cell_type": "code",
   "execution_count": null,
   "metadata": {
    "collapsed": false
   },
   "outputs": [],
   "source": [
    "# Test our w's\n",
    "\n",
    "function calculateTestError(listings_test, columnList, w)\n",
    "    x_test = convert(Array{Float64}, listings_test[:, columnList])\n",
    "    y_test = convert(Array{Float64}, listings_test[:, [:price]])\n",
    "    err = RMSE(w, x_test, y_test)\n",
    "    return err\n",
    "end\n",
    "\n",
    "@show calculateTestError(listings_test, columns_1, w_huber1)\n",
    "@show calculateTestError(listings_test, columns_2, w_huber2)\n",
    "@show calculateTestError(listings_test, columns_3, w_huber3)\n",
    "@show calculateTestError(listings_test, columns_4, w_huber4)\n",
    "@show calculateTestError(listings_test, columns_5, w_huber5)\n",
    "@show calculateTestError(listings_test, columns_6, w_huber6)\n",
    "\n",
    "@show calculateTestError(listings_test, columns_1, w1_huber1)\n",
    "@show calculateTestError(listings_test, columns_2, w1_huber2)\n",
    "@show calculateTestError(listings_test, columns_3, w1_huber3)\n",
    "@show calculateTestError(listings_test, columns_4, w1_huber4)\n",
    "@show calculateTestError(listings_test, columns_5, w1_huber5)\n",
    "@show calculateTestError(listings_test, columns_6, w1_huber6)\n",
    "\n",
    "@show calculateTestError(listings_test, columns_1, w2_huber1)\n",
    "@show calculateTestError(listings_test, columns_2, w2_huber2)\n",
    "@show calculateTestError(listings_test, columns_3, w2_huber3)\n",
    "@show calculateTestError(listings_test, columns_4, w2_huber4)\n",
    "@show calculateTestError(listings_test, columns_5, w2_huber5)\n",
    "@show calculateTestError(listings_test, columns_6, w2_huber6)\n",
    "\n",
    "@show calculateTestError(listings_test, columns_1, w_quad1)\n",
    "@show calculateTestError(listings_test, columns_2, w_quad2)\n",
    "@show calculateTestError(listings_test, columns_3, w_quad3)\n",
    "@show calculateTestError(listings_test, columns_4, w_quad4)\n",
    "@show calculateTestError(listings_test, columns_5, w_quad5)\n",
    "@show calculateTestError(listings_test, columns_6, w_quad6)\n",
    "\n",
    "@show calculateTestError(listings_test, columns_1, w1_quad1)\n",
    "@show calculateTestError(listings_test, columns_2, w1_quad2)\n",
    "@show calculateTestError(listings_test, columns_3, w1_quad3)\n",
    "@show calculateTestError(listings_test, columns_4, w1_quad4)\n",
    "@show calculateTestError(listings_test, columns_5, w1_quad5)\n",
    "@show calculateTestError(listings_test, columns_6, w1_quad6)\n",
    "\n",
    "@show calculateTestError(listings_test, columns_1, w2_quad1)\n",
    "@show calculateTestError(listings_test, columns_2, w2_quad2)\n",
    "@show calculateTestError(listings_test, columns_3, w2_quad3)\n",
    "@show calculateTestError(listings_test, columns_4, w2_quad4)\n",
    "@show calculateTestError(listings_test, columns_5, w2_quad5)\n",
    "@show calculateTestError(listings_test, columns_6, w2_quad6)\n",
    "\n",
    "@show calculateTestError(listings_test, columns_1, w_l11)\n",
    "@show calculateTestError(listings_test, columns_2, w_l12)\n",
    "@show calculateTestError(listings_test, columns_3, w_l13)\n",
    "@show calculateTestError(listings_test, columns_4, w_l14)\n",
    "@show calculateTestError(listings_test, columns_5, w_l15)\n",
    "@show calculateTestError(listings_test, columns_6, w_l16)\n",
    "\n",
    "@show calculateTestError(listings_test, columns_1, w1_l11)\n",
    "@show calculateTestError(listings_test, columns_2, w1_l12)\n",
    "@show calculateTestError(listings_test, columns_3, w1_l13)\n",
    "@show calculateTestError(listings_test, columns_4, w1_l14)\n",
    "@show calculateTestError(listings_test, columns_5, w1_l15)\n",
    "@show calculateTestError(listings_test, columns_6, w1_l16)\n",
    "\n",
    "@show calculateTestError(listings_test, columns_1, w2_l11)\n",
    "@show calculateTestError(listings_test, columns_2, w2_l12)\n",
    "@show calculateTestError(listings_test, columns_3, w2_l13)\n",
    "@show calculateTestError(listings_test, columns_4, w2_l14)\n",
    "@show calculateTestError(listings_test, columns_5, w2_l15)\n",
    "@show calculateTestError(listings_test, columns_6, w2_l16)\n",
    "\n",
    "@show calculateTestError(listings_test, columns_5, w_quantile1)"
   ]
  },
  {
   "cell_type": "code",
   "execution_count": null,
   "metadata": {
    "collapsed": false
   },
   "outputs": [],
   "source": []
  },
  {
   "cell_type": "code",
   "execution_count": null,
   "metadata": {
    "collapsed": true
   },
   "outputs": [],
   "source": []
  }
 ],
 "metadata": {
  "kernelspec": {
   "display_name": "Julia 0.5.0",
   "language": "julia",
   "name": "julia-0.5"
  },
  "language_info": {
   "file_extension": ".jl",
   "mimetype": "application/julia",
   "name": "julia",
   "version": "0.5.0"
  }
 },
 "nbformat": 4,
 "nbformat_minor": 0
}
