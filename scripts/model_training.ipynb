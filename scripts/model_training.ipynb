{
 "cells": [
  {
   "cell_type": "code",
   "execution_count": 1,
   "metadata": {
    "collapsed": false
   },
   "outputs": [],
   "source": [
    "# Pkg.add(\"LowRankModels\")\n",
    "# Pkg.update()\n",
    "# Pkg.add(\"SCS\")"
   ]
  },
  {
   "cell_type": "code",
   "execution_count": 2,
   "metadata": {
    "collapsed": false,
    "scrolled": true
   },
   "outputs": [
    {
     "name": "stderr",
     "output_type": "stream",
     "text": [
      "WARNING: Method definition norm(Convex.AbstractExpr, Symbol) in module Convex at /opt/julia_packages/.julia/v0.5/Convex/src/atoms/second_order_cone/norm.jl:45 overwritten at deprecated.jl:49.\n"
     ]
    }
   ],
   "source": [
    "# Pkg.add(\"Gadfly\")\n",
    "using Convex\n",
    "using DataFrames\n",
    "using PyPlot\n",
    "using SCS"
   ]
  },
  {
   "cell_type": "code",
   "execution_count": 3,
   "metadata": {
    "collapsed": false
   },
   "outputs": [
    {
     "data": {
      "text/plain": [
       "proxgrad_const (generic function with 1 method)"
      ]
     },
     "execution_count": 3,
     "metadata": {},
     "output_type": "execute_result"
    }
   ],
   "source": [
    "include(\"proxgrad.jl\")"
   ]
  },
  {
   "cell_type": "code",
   "execution_count": 4,
   "metadata": {
    "collapsed": false
   },
   "outputs": [],
   "source": [
    "PERCENT_TEST = 0.2\n",
    "PERCENT_VALIDATE = 0.25\n",
    ";"
   ]
  },
  {
   "cell_type": "code",
   "execution_count": 5,
   "metadata": {
    "collapsed": false
   },
   "outputs": [
    {
     "data": {
      "text/plain": [
       "splitData (generic function with 1 method)"
      ]
     },
     "execution_count": 5,
     "metadata": {},
     "output_type": "execute_result"
    }
   ],
   "source": [
    "# Generate a split data with a given percent from 0-1\n",
    "function splitData(listings, percent)\n",
    "    n = size(listings)[1]\n",
    "    # Code borrowed from http://blog.yhat.com/posts/julia-neural-networks.html\n",
    "    is_split = shuffle(1:n .> floor(n * percent))\n",
    "    listings_train, listings_test = listings[is_split, :], listings[!is_split, :]\n",
    "    return listings_train, listings_test\n",
    "end"
   ]
  },
  {
   "cell_type": "code",
   "execution_count": 6,
   "metadata": {
    "collapsed": false
   },
   "outputs": [],
   "source": [
    "# load data\n",
    "listings = readtable(\"listings_cleaned.csv\")\n",
    "listings[:offset] = 1\n",
    "\n",
    "# Generate train/test split\n",
    "listings_train, listings_test = splitData(listings, PERCENT_TEST)\n",
    "listings = listings_train;"
   ]
  },
  {
   "cell_type": "code",
   "execution_count": 7,
   "metadata": {
    "collapsed": false
   },
   "outputs": [],
   "source": [
    "# Generate train/validate split\n",
    "listings_train, listings_validate = splitData(listings, PERCENT_VALIDATE)\n",
    "listings = listings_train;"
   ]
  },
  {
   "cell_type": "code",
   "execution_count": 8,
   "metadata": {
    "collapsed": false
   },
   "outputs": [
    {
     "data": {
      "text/plain": [
       "abs_error (generic function with 1 method)"
      ]
     },
     "execution_count": 8,
     "metadata": {},
     "output_type": "execute_result"
    }
   ],
   "source": [
    "# Various loss and error functions\n",
    "\n",
    "function lasso(X,y; λ=1)\n",
    "    @show d = size(X,2)\n",
    "    @show w = Variable(d)\n",
    "    @show p = minimize(sumsquares(X*w - y) + λ*norm(w,1))\n",
    "    solve!(p)\n",
    "    return w.value\n",
    "end\n",
    "\n",
    "function ridge_regression(X,y; λ=1)\n",
    "    d = size(X,2)\n",
    "    w = Variable(d)\n",
    "    p = minimize(sumsquares(X*w - y) + λ*sumsquares(w))\n",
    "    solve!(p)\n",
    "    return w.value\n",
    "end\n",
    "\n",
    "function nnls(X,y)\n",
    "    d = size(X,2)\n",
    "    w = Variable(d)\n",
    "    p = minimize(sumsquares(X*w - y), w>=0)\n",
    "    solve!(p)\n",
    "    return w.value\n",
    "end\n",
    "\n",
    "function ols(x, y)\n",
    "    return x\\y\n",
    "end\n",
    "\n",
    "function RMSE(w, x, y)\n",
    "    n = length(y)\n",
    "    f(x_i) = vecdot(w,x_i)\n",
    "    total_error = 0\n",
    "    for i = 1:size(x,1)\n",
    "        actual = y[i]\n",
    "        predicted = f(x[i,:])\n",
    "        total_error += (actual - predicted)^2\n",
    "    end\n",
    "    return sqrt(total_error / n)\n",
    "end\n",
    "\n",
    "function squared_error(w, x, y)\n",
    "    f(x_i) = vecdot(w,x_i)\n",
    "    total_error = 0\n",
    "    for i = 1:size(x,1)\n",
    "        actual = y[i]\n",
    "        predicted = f(x[i,:])\n",
    "        total_error += (actual - predicted)^2\n",
    "    end\n",
    "    return total_error\n",
    "end\n",
    "\n",
    "function abs_error(w, x, y)\n",
    "    f(x_i) = vecdot(w,x_i)\n",
    "    total_error = 0\n",
    "    for i = 1:size(x,1)\n",
    "        actual = y[i]\n",
    "        predicted = f(x[i,:])\n",
    "        total_error += abs(actual - predicted)\n",
    "    end\n",
    "    return total_error\n",
    "end"
   ]
  },
  {
   "cell_type": "code",
   "execution_count": 9,
   "metadata": {
    "collapsed": false
   },
   "outputs": [
    {
     "data": {
      "text/plain": [
       "calculateErrorOLS (generic function with 1 method)"
      ]
     },
     "execution_count": 9,
     "metadata": {},
     "output_type": "execute_result"
    }
   ],
   "source": [
    "# Takes in training and validation vectors, and returns the error for a specific method (as well as the w)\n",
    "function calculateError(x_train, y_train, x_validate, y_validate, lossFunction, regFunction)\n",
    "    n = length(y_train)\n",
    "    w = proxgrad((1./n)*lossFunction, regFunction, x_train, y_train, maxiters=200)\n",
    "    \n",
    "    err = RMSE(w, x_validate, y_validate)\n",
    "    return err, w\n",
    "end\n",
    "\n",
    "function calculateErrorOLS(x_train, y_train, x_validate, y_validate)\n",
    "    w = ols(x_train, y_train)\n",
    "    err = RMSE(w, x_validate, y_validate)\n",
    "    return err, w\n",
    "end"
   ]
  },
  {
   "cell_type": "code",
   "execution_count": 10,
   "metadata": {
    "collapsed": false
   },
   "outputs": [
    {
     "data": {
      "text/plain": [
       "crossValidate (generic function with 1 method)"
      ]
     },
     "execution_count": 10,
     "metadata": {},
     "output_type": "execute_result"
    }
   ],
   "source": [
    "# Cross validate to produce best w\n",
    "k = 5\n",
    "\n",
    "function crossValidate(columnList, lossFunction, regFunction)\n",
    "    minW = nothing\n",
    "    minErr = typemax(Int32)\n",
    "    for i in 1:k\n",
    "        listings_training, listings_validate = splitData(listings, PERCENT_VALIDATE) #(listings_train)\n",
    "        \n",
    "        x = convert(Array{Float64}, listings_training[:, columnList])\n",
    "        y = convert(Array{Float64}, listings_training[:, [:price]])\n",
    "        y = y[:,1] #???\n",
    "        \n",
    "        x_validate = convert(Array{Float64}, listings_validate[:, columnList])\n",
    "        y_validate = convert(Array{Float64}, listings_validate[:, [:price]])\n",
    "        y_validate = y_validate[:,1] #????\n",
    "        \n",
    "        err, w = calculateError(x, y, x_validate, y_validate, lossFunction, regFunction)\n",
    "        if (err < minErr)\n",
    "            minW = w\n",
    "            minErr = err\n",
    "        end\n",
    "        \n",
    "        #TODO: Use average not min? (in sample error)\n",
    "    end\n",
    "    return minW, minErr\n",
    "end"
   ]
  },
  {
   "cell_type": "code",
   "execution_count": 11,
   "metadata": {
    "collapsed": false
   },
   "outputs": [],
   "source": [
    "# Choose different sets of columns that we care about\n",
    "\n",
    "columns_1 = [:accommodates, :beds, :amenities, :review_scores_rating, :offset]\n",
    "columns_2 = [:accommodates, :beds, :offset]\n",
    "columns_3 = [:accommodates, :beds, :room_type_entire_home_apt, :offset]\n",
    "columns_4 = [:accommodates, :beds, :room_type_entire_home_apt, :reviews_per_month, :offset]\n",
    "columns_5 = [:accommodates, :beds, :bed_type_real_bed, :room_type_entire_home_apt, :reviews_per_month, :property_type_apartment, :offset]\n",
    "columns_6 = [:accommodates, :beds, :bed_type_real_bed, :room_type_entire_home_apt, :room_type_private_room\n",
    ", :room_type_shared_room, :reviews_per_month, :property_type_apartment, :offset]\n",
    ";"
   ]
  },
  {
   "cell_type": "code",
   "execution_count": 12,
   "metadata": {
    "collapsed": false
   },
   "outputs": [
    {
     "name": "stdout",
     "output_type": "stream",
     "text": [
      "err_huber1 = 282.2436754753142\n",
      "err_huber2 = 306.7544184914401\n",
      "err_huber3 = 362.386573267509\n",
      "err_huber4 = 272.3301890334482\n",
      "err_huber5 = 305.9722946750409\n",
      "err_quad1 = 302.92041884184084\n",
      "err_quad2 = 287.35099089235587\n",
      "err_quad3 = 266.33099696331607\n",
      "err_quad4 = 204.57579006675235\n",
      "err_quad5 = 247.1767223633175\n",
      "err_quad5_1 = 284.8034250368456\n",
      "err_quad5_2 = 269.0582951717673\n",
      "err_quad6 = 280.4831176975978\n",
      "err_l11 = 295.2282127089493\n",
      "err_l12 = 303.8164556042745\n",
      "err_l13 = 313.38448743765167\n",
      "err_l14 = 344.5732982610158\n",
      "err_l15 = 282.3862288581897\n",
      "err_quantile1 = 289.6266000056086\n"
     ]
    },
    {
     "data": {
      "text/html": [
       "289.6266000056086"
      ],
      "text/plain": [
       "289.6266000056086"
      ]
     },
     "execution_count": 12,
     "metadata": {},
     "output_type": "execute_result"
    }
   ],
   "source": [
    "\n",
    "#huber regression\n",
    "w_huber1, err_huber1 = crossValidate(columns_1, HuberLoss(), ZeroReg())\n",
    "w_huber2, err_huber2 = crossValidate(columns_2, HuberLoss(), ZeroReg())\n",
    "w_huber3, err_huber3 = crossValidate(columns_3, HuberLoss(), ZeroReg())\n",
    "w_huber4, err_huber4 = crossValidate(columns_4, HuberLoss(), ZeroReg())\n",
    "w_huber5, err_huber5 = crossValidate(columns_5, HuberLoss(), ZeroReg())\n",
    "@show err_huber1\n",
    "@show err_huber2\n",
    "@show err_huber3\n",
    "@show err_huber4\n",
    "@show err_huber5\n",
    "\n",
    "# ordinary least squares regression\n",
    "lambda = 1\n",
    "w_quad1, err_quad1 = crossValidate(columns_1, QuadLoss(), ZeroReg())\n",
    "w_quad2, err_quad2 = crossValidate(columns_2, QuadLoss(), ZeroReg())\n",
    "w_quad3, err_quad3 = crossValidate(columns_3, QuadLoss(), ZeroReg())\n",
    "w_quad4, err_quad4 = crossValidate(columns_4, QuadLoss(), ZeroReg())\n",
    "w_quad5, err_quad5 = crossValidate(columns_5, QuadLoss(), ZeroReg())\n",
    "w_quad5_1, err_quad5_1 = crossValidate(columns_5, QuadLoss(), OneReg(lambda))\n",
    "w_quad5_2, err_quad5_2 = crossValidate(columns_5, QuadLoss(), QuadReg(lambda))\n",
    "w_quad6, err_quad6 = crossValidate(columns_6, QuadLoss(), ZeroReg())\n",
    "@show err_quad1\n",
    "@show err_quad2\n",
    "@show err_quad3\n",
    "@show err_quad4\n",
    "@show err_quad5\n",
    "@show err_quad5_1\n",
    "@show err_quad5_2\n",
    "@show err_quad6\n",
    "\n",
    "# l1 loss regression\n",
    "w_l11, err_l11 = crossValidate(columns_1, L1Loss(), ZeroReg())\n",
    "w_l12, err_l12 = crossValidate(columns_2, L1Loss(), ZeroReg())\n",
    "w_l13, err_l13 = crossValidate(columns_3, L1Loss(), ZeroReg())\n",
    "w_l14, err_l14 = crossValidate(columns_4, L1Loss(), ZeroReg())\n",
    "w_l15, err_l15 = crossValidate(columns_5, L1Loss(), ZeroReg())\n",
    "@show err_l11\n",
    "@show err_l12\n",
    "@show err_l13\n",
    "@show err_l14\n",
    "@show err_l15\n",
    "\n",
    "# quantile regression\n",
    "w_quantile1, err_quantile1 = crossValidate(columns_5, QuantileLoss(quantile=.4), ZeroReg())\n",
    "@show err_quantile1"
   ]
  },
  {
   "cell_type": "code",
   "execution_count": null,
   "metadata": {
    "collapsed": false,
    "scrolled": true
   },
   "outputs": [],
   "source": [
    "# ordinary least squares\n",
    "\n",
    "@show calculateErrorOLS(x1, y, x1_test, y_test)\n",
    "@show calculateErrorOLS(x2, y, x2_test, y_test)\n",
    "@show calculateErrorOLS(x3, y, x3_test, y_test)\n",
    "@show calculateErrorOLS(x4, y, x4_test, y_test)\n",
    "@show calculateErrorOLS(x5, y, x5_test, y_test)"
   ]
  },
  {
   "cell_type": "code",
   "execution_count": null,
   "metadata": {
    "collapsed": false
   },
   "outputs": [],
   "source": [
    "w_ridge1 = ridge_regression(x1, y)\n",
    "@show err_ridge1 = RMSE(w_ridge1, x1_test, y_test)\n"
   ]
  },
  {
   "cell_type": "code",
   "execution_count": null,
   "metadata": {
    "collapsed": false
   },
   "outputs": [],
   "source": [
    "w_lasso1 = lasso(x1, y)\n",
    "@show err_lasso1 = RMSE(w_lasso1, x1_test, y_test)\n"
   ]
  },
  {
   "cell_type": "code",
   "execution_count": 13,
   "metadata": {
    "collapsed": false
   },
   "outputs": [
    {
     "name": "stdout",
     "output_type": "stream",
     "text": [
      "calculateTestError(listings_test,columns_1,w_huber1) = 344.3418152947554\n",
      "calculateTestError(listings_test,columns_2,w_huber2) = 317.90502218973086\n",
      "calculateTestError(listings_test,columns_3,w_huber3) = 319.1040029730845\n",
      "calculateTestError(listings_test,columns_4,w_huber4) = 317.7660734117339\n",
      "calculateTestError(listings_test,columns_5,w_huber5) = 317.9455430860012\n",
      "calculateTestError(listings_test,columns_1,w_quad1) = 319.9414041618917\n",
      "calculateTestError(listings_test,columns_2,w_quad2) = 308.1537329454\n",
      "calculateTestError(listings_test,columns_3,w_quad3) = 308.6419036652755\n",
      "calculateTestError(listings_test,columns_4,w_quad4) = 306.4425450201415\n",
      "calculateTestError(listings_test,columns_5,w_quad5) = 304.2096691352894\n",
      "calculateTestError(listings_test,columns_5,w_quad5_1) = 304.6400752834774\n",
      "calculateTestError(listings_test,columns_5,w_quad5_2) = 304.66948621990684\n",
      "calculateTestError(listings_test,columns_6,w_quad6) = 304.11176851875587\n",
      "calculateTestError(listings_test,columns_1,w_l11) = 344.2247319797244\n",
      "calculateTestError(listings_test,columns_2,w_l12) = 317.9300911499878\n",
      "calculateTestError(listings_test,columns_3,w_l13) = 318.75358056400336\n",
      "calculateTestError(listings_test,columns_4,w_l14) = 317.5987998512017\n",
      "calculateTestError(listings_test,columns_5,w_l15) = 318.2629674765101\n",
      "calculateTestError(listings_test,columns_5,w_quantile1) = 323.8158636357374\n"
     ]
    },
    {
     "data": {
      "text/html": [
       "323.8158636357374"
      ],
      "text/plain": [
       "323.8158636357374"
      ]
     },
     "execution_count": 13,
     "metadata": {},
     "output_type": "execute_result"
    }
   ],
   "source": [
    "# Test our w's\n",
    "\n",
    "function calculateTestError(listings_test, columnList, w)\n",
    "    x_test = convert(Array{Float64}, listings_test[:, columnList])\n",
    "    y_test = convert(Array{Float64}, listings_test[:, [:price]])\n",
    "    err = RMSE(w, x_test, y_test)\n",
    "    return err\n",
    "end\n",
    "\n",
    "@show calculateTestError(listings_test, columns_1, w_huber1)\n",
    "@show calculateTestError(listings_test, columns_2, w_huber2)\n",
    "@show calculateTestError(listings_test, columns_3, w_huber3)\n",
    "@show calculateTestError(listings_test, columns_4, w_huber4)\n",
    "@show calculateTestError(listings_test, columns_5, w_huber5)\n",
    "\n",
    "@show calculateTestError(listings_test, columns_1, w_quad1)\n",
    "@show calculateTestError(listings_test, columns_2, w_quad2)\n",
    "@show calculateTestError(listings_test, columns_3, w_quad3)\n",
    "@show calculateTestError(listings_test, columns_4, w_quad4)\n",
    "@show calculateTestError(listings_test, columns_5, w_quad5)\n",
    "@show calculateTestError(listings_test, columns_5, w_quad5_1)\n",
    "@show calculateTestError(listings_test, columns_5, w_quad5_2)\n",
    "@show calculateTestError(listings_test, columns_6, w_quad6)\n",
    "\n",
    "@show calculateTestError(listings_test, columns_1, w_l11)\n",
    "@show calculateTestError(listings_test, columns_2, w_l12)\n",
    "@show calculateTestError(listings_test, columns_3, w_l13)\n",
    "@show calculateTestError(listings_test, columns_4, w_l14)\n",
    "@show calculateTestError(listings_test, columns_5, w_l15)\n",
    "\n",
    "@show calculateTestError(listings_test, columns_5, w_quantile1)"
   ]
  },
  {
   "cell_type": "code",
   "execution_count": null,
   "metadata": {
    "collapsed": false
   },
   "outputs": [],
   "source": [
    "plt[:hist](w_ridge1)"
   ]
  },
  {
   "cell_type": "code",
   "execution_count": null,
   "metadata": {
    "collapsed": false
   },
   "outputs": [],
   "source": [
    "plt[:hist](w_lasso1, bins=50)"
   ]
  },
  {
   "cell_type": "code",
   "execution_count": null,
   "metadata": {
    "collapsed": false
   },
   "outputs": [],
   "source": []
  },
  {
   "cell_type": "code",
   "execution_count": null,
   "metadata": {
    "collapsed": true
   },
   "outputs": [],
   "source": []
  }
 ],
 "metadata": {
  "kernelspec": {
   "display_name": "Julia 0.5.0",
   "language": "julia",
   "name": "julia-0.5"
  },
  "language_info": {
   "file_extension": ".jl",
   "mimetype": "application/julia",
   "name": "julia",
   "version": "0.5.0"
  }
 },
 "nbformat": 4,
 "nbformat_minor": 0
}
